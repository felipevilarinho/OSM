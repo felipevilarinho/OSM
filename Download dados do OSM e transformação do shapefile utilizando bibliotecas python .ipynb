{
 "cells": [
  {
   "cell_type": "markdown",
   "id": "d99270c6",
   "metadata": {},
   "source": [
    "### Bibliotecas utilizadas"
   ]
  },
  {
   "cell_type": "code",
   "execution_count": null,
   "id": "35c2827d",
   "metadata": {},
   "outputs": [],
   "source": [
    "import osmnx as ox\n",
    "import geoplot as gplt\n",
    "import geopandas as gpd\n",
    "import pandas as pd\n",
    "from shapely import wkt\n",
    "import os"
   ]
  },
  {
   "cell_type": "markdown",
   "id": "f57f6b8d",
   "metadata": {},
   "source": [
    "### Criar variável da localidade onde se pretende realizar a consulta"
   ]
  },
  {
   "cell_type": "code",
   "execution_count": null,
   "id": "e1aa6b8f",
   "metadata": {},
   "outputs": [],
   "source": [
    "localidade_nome = 'São Paulo, BR'"
   ]
  },
  {
   "cell_type": "markdown",
   "id": "be3e67fa",
   "metadata": {},
   "source": [
    "### Criar variável com o tipo de estabelecimento que se pretende realizar a consulta"
   ]
  },
  {
   "cell_type": "code",
   "execution_count": null,
   "id": "5cce0ba9",
   "metadata": {},
   "outputs": [],
   "source": [
    "tags = {'building': 'supermarket'} "
   ]
  },
  {
   "cell_type": "markdown",
   "id": "e3ce3156",
   "metadata": {},
   "source": [
    "### Realizar consulta"
   ]
  },
  {
   "cell_type": "code",
   "execution_count": null,
   "id": "5e73cbc5",
   "metadata": {},
   "outputs": [],
   "source": [
    "varejo_alimentar = ox.geometries_from_place(localidade_nome, tags)\n",
    "varejo_alimentar.head()"
   ]
  },
  {
   "cell_type": "markdown",
   "id": "51167ff7",
   "metadata": {},
   "source": [
    "### Resultado da consulta no limite do município de São Paulo"
   ]
  },
  {
   "cell_type": "code",
   "execution_count": null,
   "id": "85b88ab2",
   "metadata": {},
   "outputs": [],
   "source": [
    "limite_municipio = ox.geocoder.geocode_to_gdf(localidade_nome, which_result=2)\n",
    "ax = limite_municipio.plot(facecolor = '#494D4D', figsize=(85,85))\n",
    "ax.set_facecolor('#2C2E2E')\n",
    "varejo_alimentar['geometry'].plot(facecolor = '#C61313',\n",
    "                             edgecolor = '#C61313',\n",
    "                             linewidth = 10,\n",
    "                             markersize = 1,\n",
    "                             ax = ax)"
   ]
  },
  {
   "cell_type": "markdown",
   "id": "6440c18d",
   "metadata": {},
   "source": [
    "### Criar pasta Resultado no C:\n"
   ]
  },
  {
   "cell_type": "code",
   "execution_count": null,
   "id": "17459c4c",
   "metadata": {},
   "outputs": [],
   "source": [
    "os.mkdir('C:/Resultado')\n",
    "pasta_dados = 'C:/Resultado'"
   ]
  },
  {
   "cell_type": "markdown",
   "id": "7fac0647",
   "metadata": {},
   "source": [
    "### Exportação de planilha a partir do Pandas"
   ]
  },
  {
   "cell_type": "code",
   "execution_count": null,
   "id": "41a70cd9",
   "metadata": {},
   "outputs": [],
   "source": [
    "planilha = \"C:/Resultado/Planilha.csv\"\n",
    "df = pd.DataFrame(varejo_alimentar, copy = True)\n",
    "df.to_csv(planilha, index = True)"
   ]
  },
  {
   "cell_type": "markdown",
   "id": "4e3ba9c4",
   "metadata": {},
   "source": [
    "### Identificação da coluna de geometria na planilha"
   ]
  },
  {
   "cell_type": "code",
   "execution_count": null,
   "id": "cdb46058",
   "metadata": {},
   "outputs": [],
   "source": [
    "leitura_arquivo = pd.read_csv(planilha)\n",
    "leitura_arquivo['geometry'] = gpd.GeoSeries.from_wkt(leitura_arquivo['geometry'])"
   ]
  },
  {
   "cell_type": "markdown",
   "id": "98dc368f",
   "metadata": {},
   "source": [
    "### Identificação do sistema de referência"
   ]
  },
  {
   "cell_type": "code",
   "execution_count": null,
   "id": "7c61eae7",
   "metadata": {},
   "outputs": [],
   "source": [
    "gdf = gpd.GeoDataFrame(leitura_arquivo,geometry='geometry')\n",
    "gdf.crs"
   ]
  },
  {
   "cell_type": "markdown",
   "id": "387f24d0",
   "metadata": {},
   "source": [
    "### Inserção do sistema de referência no geodataframe"
   ]
  },
  {
   "cell_type": "code",
   "execution_count": null,
   "id": "fa0aa520",
   "metadata": {},
   "outputs": [],
   "source": [
    "insercao_referencia_espacial = gdf.set_crs(epsg=4674)\n",
    "insercao_referencia_espacial.crs"
   ]
  },
  {
   "cell_type": "markdown",
   "id": "0f826439",
   "metadata": {},
   "source": [
    "### Exportação do dado para shapefile"
   ]
  },
  {
   "cell_type": "code",
   "execution_count": null,
   "id": "11ac460a",
   "metadata": {},
   "outputs": [],
   "source": [
    "insercao_referencia_espacial.to_file('C:/Resultado/dado_geoespacial.shp')"
   ]
  }
 ],
 "metadata": {
  "kernelspec": {
   "display_name": "Python 3 (ipykernel)",
   "language": "python",
   "name": "python3"
  },
  "language_info": {
   "codemirror_mode": {
    "name": "ipython",
    "version": 3
   },
   "file_extension": ".py",
   "mimetype": "text/x-python",
   "name": "python",
   "nbconvert_exporter": "python",
   "pygments_lexer": "ipython3",
   "version": "3.7.11"
  }
 },
 "nbformat": 4,
 "nbformat_minor": 5
}
